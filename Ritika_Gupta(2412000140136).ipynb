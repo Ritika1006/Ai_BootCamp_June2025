{
  "nbformat": 4,
  "nbformat_minor": 0,
  "metadata": {
    "colab": {
      "provenance": []
    },
    "kernelspec": {
      "name": "python3",
      "display_name": "Python 3"
    },
    "language_info": {
      "name": "python"
    }
  },
  "cells": [
    {
      "cell_type": "code",
      "execution_count": 2,
      "metadata": {
        "colab": {
          "base_uri": "https://localhost:8080/"
        },
        "id": "_7lHp8TVcq_h",
        "outputId": "96773fe8-a84b-4d59-af6b-c024d321b0dd"
      },
      "outputs": [
        {
          "output_type": "stream",
          "name": "stdout",
          "text": [
            "Hello World!\n",
            "Here!\n"
          ]
        }
      ],
      "source": [
        "print(\"Hello World!\")# printing hello world\n",
        "\n",
        "\n",
        "print(\"Here!\")"
      ]
    },
    {
      "cell_type": "code",
      "source": [
        "print(\"Hey here!\")"
      ],
      "metadata": {
        "colab": {
          "base_uri": "https://localhost:8080/"
        },
        "id": "kLWwSk2-eAHb",
        "outputId": "476ceb42-cdff-4986-de15-977cf36f8189"
      },
      "execution_count": 3,
      "outputs": [
        {
          "output_type": "stream",
          "name": "stdout",
          "text": [
            "Hey here!\n"
          ]
        }
      ]
    },
    {
      "cell_type": "code",
      "source": [
        "\n"
      ],
      "metadata": {
        "id": "Ynnd1X8ZeaRt"
      },
      "execution_count": null,
      "outputs": []
    }
  ]
}